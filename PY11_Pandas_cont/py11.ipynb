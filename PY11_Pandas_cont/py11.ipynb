{
 "cells": [
  {
   "attachments": {},
   "cell_type": "markdown",
   "metadata": {},
   "source": [
    "PY11 - Pandas continued"
   ]
  },
  {
   "cell_type": "code",
   "execution_count": null,
   "metadata": {},
   "outputs": [],
   "source": [
    "import pandas as pd\n",
    "\n",
    "melb_data = pd.read_csv('data/melb_data_ps.csv', sep=',')\n",
    "melb_data.head()"
   ]
  },
  {
   "cell_type": "code",
   "execution_count": null,
   "metadata": {},
   "outputs": [],
   "source": [
    "melb_df = melb_data.copy()\n",
    "melb_df.head()"
   ]
  },
  {
   "cell_type": "code",
   "execution_count": null,
   "metadata": {},
   "outputs": [],
   "source": [
    "melb_df = melb_df.drop(['index', 'Coordinates'], axis=1)\n",
    "melb_df.head()"
   ]
  },
  {
   "cell_type": "code",
   "execution_count": null,
   "metadata": {},
   "outputs": [],
   "source": [
    "total_rooms = melb_df['Rooms'] + melb_df['Bedroom'] + melb_df['Bathroom']\n",
    "display(total_rooms)"
   ]
  },
  {
   "cell_type": "code",
   "execution_count": null,
   "metadata": {},
   "outputs": [],
   "source": [
    "melb_df['MeanRoomsSquare'] = melb_df['BuildingArea'] / total_rooms\n",
    "melb_df.head()"
   ]
  },
  {
   "cell_type": "code",
   "execution_count": null,
   "metadata": {},
   "outputs": [],
   "source": [
    "diff_area = melb_df['BuildingArea'] - melb_df['Landsize']\n",
    "sum_area = melb_df['BuildingArea'] + melb_df['Landsize']\n",
    "melb_df['AreaRatio'] = diff_area/sum_area\n",
    "display(melb_df['AreaRatio'])"
   ]
  },
  {
   "cell_type": "code",
   "execution_count": 24,
   "metadata": {},
   "outputs": [
    {
     "data": {
      "text/plain": [
       "0       2016-12-03\n",
       "1       2016-02-04\n",
       "2       2017-03-04\n",
       "3       2017-03-04\n",
       "4       2016-06-04\n",
       "           ...    \n",
       "13575   2017-08-26\n",
       "13576   2017-08-26\n",
       "13577   2017-08-26\n",
       "13578   2017-08-26\n",
       "13579   2017-08-26\n",
       "Name: Date, Length: 13580, dtype: datetime64[ns]"
      ]
     },
     "metadata": {},
     "output_type": "display_data"
    }
   ],
   "source": [
    "melb_df['Date'] = pd.to_datetime(melb_df['Date'], dayfirst=True)\n",
    "display(melb_df['Date'])"
   ]
  },
  {
   "cell_type": "code",
   "execution_count": null,
   "metadata": {},
   "outputs": [],
   "source": [
    "melb_df['AgeBuilding'] = melb_df['Date'].dt.year - melb_df['YearBuilt']\n",
    "melb_df = melb_df.drop('YearBuilt', axis=1)\n",
    "melb_df.head()"
   ]
  },
  {
   "attachments": {},
   "cell_type": "markdown",
   "metadata": {},
   "source": [
    "Task 3.3"
   ]
  },
  {
   "cell_type": "code",
   "execution_count": 49,
   "metadata": {},
   "outputs": [
    {
     "data": {
      "text/plain": [
       "12822"
      ]
     },
     "metadata": {},
     "output_type": "display_data"
    }
   ],
   "source": [
    "melb_df['WeekdaySale']=melb_df['Date'].dt.dayofweek\n",
    "weekend_count=melb_df[((melb_df['WeekdaySale']==6)|(melb_df['WeekdaySale']==5))]['WeekdaySale'].shape[0]\n",
    "display(weekend_count)"
   ]
  },
  {
   "attachments": {},
   "cell_type": "markdown",
   "metadata": {},
   "source": [
    "Task 3.4"
   ]
  },
  {
   "cell_type": "code",
   "execution_count": 53,
   "metadata": {},
   "outputs": [
    {
     "data": {
      "text/plain": [
       "1999"
      ]
     },
     "metadata": {},
     "output_type": "display_data"
    }
   ],
   "source": [
    "ufo_data = pd.read_csv('data/ufo.csv', sep=',')\n",
    "ufo_data['Time'] = pd.to_datetime(ufo_data['Time'], dayfirst=False)\n",
    "year=ufo_data['Time'].dt.year\n",
    "display(year.mode()[0])"
   ]
  },
  {
   "attachments": {},
   "cell_type": "markdown",
   "metadata": {},
   "source": [
    "Taks 3.5"
   ]
  },
  {
   "cell_type": "code",
   "execution_count": null,
   "metadata": {},
   "outputs": [],
   "source": [
    "nv_data=ufo_data[ufo_data['State']=='NV']\n",
    "nv_data['Date']=nv_data['Time'].dt.date\n",
    "nv_data['Date']=pd.to_datetime(nv_data['Date'],dayfirst=False)\n",
    "days=nv_data['Date'].diff().dt.days.mean()\n",
    "display(days)"
   ]
  },
  {
   "attachments": {},
   "cell_type": "markdown",
   "metadata": {},
   "source": [
    "Task 4.2"
   ]
  },
  {
   "cell_type": "code",
   "execution_count": 74,
   "metadata": {},
   "outputs": [
    {
     "data": {
      "text/plain": [
       "1081199"
      ]
     },
     "metadata": {},
     "output_type": "display_data"
    }
   ],
   "source": [
    "def get_weekend(weekday):\n",
    "    if weekday in range(0,5):\n",
    "        return 0\n",
    "    else:\n",
    "        return 1\n",
    "melb_df['Weekend']=melb_df['WeekdaySale'].apply(get_weekend)\n",
    "display(round(melb_df[melb_df['Weekend']==1]['Price'].mean()))"
   ]
  },
  {
   "attachments": {},
   "cell_type": "markdown",
   "metadata": {},
   "source": [
    "Task 4.3"
   ]
  },
  {
   "cell_type": "code",
   "execution_count": 85,
   "metadata": {},
   "outputs": [
    {
     "data": {
      "text/plain": [
       "1.3"
      ]
     },
     "metadata": {},
     "output_type": "display_data"
    }
   ],
   "source": [
    "seller=melb_df['SellerG'].value_counts().nlargest(49).index\n",
    "melb_df['Sellers']=melb_df['SellerG'].apply(lambda x: x if x in seller else 'other')\n",
    "diff=round((melb_df[melb_df['Sellers']=='Nelson']['Price'].min())/(melb_df[melb_df['Sellers']=='other']['Price'].min()),1)\n",
    "display(diff)"
   ]
  },
  {
   "attachments": {},
   "cell_type": "markdown",
   "metadata": {},
   "source": [
    "Task 4.4"
   ]
  },
  {
   "cell_type": "code",
   "execution_count": 88,
   "metadata": {},
   "outputs": [],
   "source": [
    "def get_experience(arg):\n",
    "    month=['месяца','месяцев','месяц']\n",
    "    year=['лет','года','год']\n",
    "    line=arg.split()\n",
    "    if line[-1] in year:\n",
    "        experience=int(line[-2])*12\n",
    "    elif (line[-1] in month) and (len(line)<5):\n",
    "        experience=int(line[-2])\n",
    "    else:\n",
    "        experience=int(line[2])*12+int(line[-2])\n",
    "    return experience"
   ]
  },
  {
   "attachments": {},
   "cell_type": "markdown",
   "metadata": {},
   "source": [
    "Task 4.4 - эталон"
   ]
  },
  {
   "cell_type": "code",
   "execution_count": null,
   "metadata": {},
   "outputs": [],
   "source": [
    "def get_experience(arg):\n",
    "    month_key_words = ['месяц', 'месяцев', 'месяца']\n",
    "    year_key_words = ['год', 'лет', 'года']\n",
    "    args_splited = arg.split(' ')\n",
    "    month = 0\n",
    "    year = 0\n",
    "    for i in range(len(args_splited)):\n",
    "        if args_splited[i] in month_key_words:\n",
    "            month = args_splited[i-1]\n",
    "        if args_splited[i] in year_key_words:\n",
    "            year = args_splited[i-1]\n",
    "    return int(year)*12 + int(month)"
   ]
  },
  {
   "cell_type": "code",
   "execution_count": null,
   "metadata": {},
   "outputs": [],
   "source": [
    "unique_list = []\n",
    "# пробегаемся по именам столбцов в таблице\n",
    "for col in melb_df.columns:\n",
    "    # создаём кортеж (имя столбца, число уникальных значений)\n",
    "    item = (col, melb_df[col].nunique(),melb_df[col].dtypes) \n",
    "    # добавляем кортеж в список\n",
    "    unique_list.append(item) \n",
    "# создаём вспомогательную таблицу и сортируем её\n",
    "unique_counts = pd.DataFrame(\n",
    "    unique_list,\n",
    "    columns=['Column_Name', 'Num_Unique', 'Type']\n",
    ").sort_values(by='Num_Unique',  ignore_index=True)\n",
    "# выводим её на экран\n",
    "display(unique_counts)"
   ]
  },
  {
   "cell_type": "code",
   "execution_count": 91,
   "metadata": {},
   "outputs": [
    {
     "name": "stdout",
     "output_type": "stream",
     "text": [
      "<class 'pandas.core.frame.DataFrame'>\n",
      "RangeIndex: 13580 entries, 0 to 13579\n",
      "Data columns (total 24 columns):\n",
      " #   Column         Non-Null Count  Dtype   \n",
      "---  ------         --------------  -----   \n",
      " 0   index          13580 non-null  int64   \n",
      " 1   Suburb         13580 non-null  object  \n",
      " 2   Address        13580 non-null  object  \n",
      " 3   Rooms          13580 non-null  int64   \n",
      " 4   Type           13580 non-null  category\n",
      " 5   Price          13580 non-null  float64 \n",
      " 6   Method         13580 non-null  category\n",
      " 7   SellerG        13580 non-null  object  \n",
      " 8   Date           13580 non-null  object  \n",
      " 9   Distance       13580 non-null  float64 \n",
      " 10  Postcode       13580 non-null  int64   \n",
      " 11  Bedroom        13580 non-null  int64   \n",
      " 12  Bathroom       13580 non-null  int64   \n",
      " 13  Car            13580 non-null  int64   \n",
      " 14  Landsize       13580 non-null  float64 \n",
      " 15  BuildingArea   13580 non-null  float64 \n",
      " 16  YearBuilt      13580 non-null  category\n",
      " 17  CouncilArea    12211 non-null  category\n",
      " 18  Lattitude      13580 non-null  float64 \n",
      " 19  Longtitude     13580 non-null  float64 \n",
      " 20  Regionname     13580 non-null  category\n",
      " 21  Propertycount  13580 non-null  int64   \n",
      " 22  Coordinates    13580 non-null  object  \n",
      " 23  Sellers        13580 non-null  category\n",
      "dtypes: category(6), float64(6), int64(7), object(5)\n",
      "memory usage: 2.0+ MB\n"
     ]
    },
    {
     "data": {
      "text/plain": [
       "None"
      ]
     },
     "metadata": {},
     "output_type": "display_data"
    }
   ],
   "source": [
    "cols_to_exclude = ['Date', 'Rooms', 'Bedroom', 'Bathroom', 'Car'] # список столбцов, которые мы не берём во внимание\n",
    "max_unique_count = 150 # задаём максимальное число уникальных категорий\n",
    "for col in melb_df.columns: # цикл по именам столбцов\n",
    "    if melb_df[col].nunique() < max_unique_count and col not in cols_to_exclude: # проверяем условие\n",
    "        melb_df[col] = melb_df[col].astype('category') # преобразуем тип столбца\n",
    "display(melb_df.info())"
   ]
  },
  {
   "attachments": {},
   "cell_type": "markdown",
   "metadata": {},
   "source": [
    "Category type"
   ]
  },
  {
   "cell_type": "code",
   "execution_count": null,
   "metadata": {},
   "outputs": [],
   "source": [
    "sub=melb_df['Suburb'].value_counts().nlargest(119).index\n",
    "melb_df['Suburb']=melb_df['Suburb'].apply(lambda x: x if x in sub else 'other')\n",
    "melb_df['Suburb'] = melb_df['Suburb'].astype('category')\n",
    "display(melb_df.info())"
   ]
  },
  {
   "attachments": {},
   "cell_type": "markdown",
   "metadata": {},
   "source": [
    "Final task - Citi bike"
   ]
  },
  {
   "cell_type": "code",
   "execution_count": 117,
   "metadata": {},
   "outputs": [
    {
     "name": "stdout",
     "output_type": "stream",
     "text": [
      "<class 'pandas.core.frame.DataFrame'>\n",
      "RangeIndex: 300000 entries, 0 to 299999\n",
      "Data columns (total 12 columns):\n",
      " #   Column                   Non-Null Count   Dtype  \n",
      "---  ------                   --------------   -----  \n",
      " 0   starttime                300000 non-null  object \n",
      " 1   stoptime                 300000 non-null  object \n",
      " 2   start station name       299831 non-null  object \n",
      " 3   start station latitude   300000 non-null  float64\n",
      " 4   start station longitude  300000 non-null  float64\n",
      " 5   end station name         299831 non-null  object \n",
      " 6   end station latitude     300000 non-null  float64\n",
      " 7   end station longitude    300000 non-null  float64\n",
      " 8   bikeid                   300000 non-null  int64  \n",
      " 9   usertype                 300000 non-null  object \n",
      " 10  gender                   300000 non-null  int64  \n",
      " 11  age                      300000 non-null  int64  \n",
      "dtypes: float64(4), int64(3), object(5)\n",
      "memory usage: 27.5+ MB\n"
     ]
    }
   ],
   "source": [
    "bike_data = pd.read_csv('data/citibike-tripdata.csv', sep=',')\n",
    "bike_df=bike_df.drop(['birth year'],axis=1)\n",
    "bike_df.info()"
   ]
  },
  {
   "attachments": {},
   "cell_type": "markdown",
   "metadata": {},
   "source": [
    "Task 6.9"
   ]
  },
  {
   "cell_type": "code",
   "execution_count": 121,
   "metadata": {},
   "outputs": [
    {
     "data": {
      "text/plain": [
       "11837"
      ]
     },
     "execution_count": 121,
     "metadata": {},
     "output_type": "execute_result"
    }
   ],
   "source": [
    "bike_df[bike_df['age']>60]['gender'].value_counts().sum()"
   ]
  },
  {
   "attachments": {},
   "cell_type": "markdown",
   "metadata": {},
   "source": [
    "Task 6.10"
   ]
  },
  {
   "cell_type": "code",
   "execution_count": 126,
   "metadata": {},
   "outputs": [
    {
     "data": {
      "text/plain": [
       "Timedelta('0 days 00:07:16.837000')"
      ]
     },
     "execution_count": 126,
     "metadata": {},
     "output_type": "execute_result"
    }
   ],
   "source": [
    "bike_df['trip duration'].iloc[3]"
   ]
  },
  {
   "attachments": {},
   "cell_type": "markdown",
   "metadata": {},
   "source": [
    "Task 6.11"
   ]
  },
  {
   "cell_type": "code",
   "execution_count": 135,
   "metadata": {},
   "outputs": [
    {
     "name": "stderr",
     "output_type": "stream",
     "text": [
      "C:\\Users\\a.kornilov\\AppData\\Local\\Temp\\ipykernel_16120\\1004240807.py:9: FutureWarning: The default value of numeric_only in DataFrame.sum is deprecated. In a future version, it will default to False. In addition, specifying 'numeric_only=None' is deprecated. Select only valid columns or specify the value of numeric_only to silence this warning.\n",
      "  bike_df[bike_df['weekend1']==1].sum()\n"
     ]
    },
    {
     "data": {
      "text/plain": [
       "start station latitude                                        4690262.072772\n",
       "start station longitude                                      -8517840.178091\n",
       "end station latitude                                          4690199.916585\n",
       "end station longitude                                        -8517888.662548\n",
       "bikeid                                                            3073466162\n",
       "usertype                   SubscriberSubscriberSubscriberSubscriberCustom...\n",
       "gender                                                                122154\n",
       "age                                                                  4440410\n",
       "trip duration                                      1736 days 05:29:55.972000\n",
       "weekend                                                               636487\n",
       "weekend1                                                              115135\n",
       "dtype: object"
      ]
     },
     "execution_count": 135,
     "metadata": {},
     "output_type": "execute_result"
    }
   ],
   "source": [
    "def get_weekend(weekday):\n",
    "    if weekday in range(0,5):\n",
    "        return 0\n",
    "    else:\n",
    "        return 1\n",
    "#bike_df['weekend']=bike_df['starttime'].dt.dayofweek\n",
    "#bike_df['weekend1']=bike_df['weekend'].apply(get_weekend)\n",
    "#bike_df[bike_df['weekend1']==1].value_counts()\n",
    "bike_df[bike_df['weekend1']==1].sum()"
   ]
  },
  {
   "attachments": {},
   "cell_type": "markdown",
   "metadata": {},
   "source": [
    "Task 6.12"
   ]
  },
  {
   "cell_type": "code",
   "execution_count": 146,
   "metadata": {},
   "outputs": [
    {
     "data": {
      "text/plain": [
       "9"
      ]
     },
     "metadata": {},
     "output_type": "display_data"
    }
   ],
   "source": [
    "#bike_df['start hour']=bike_df['starttime'].dt.hour\n",
    "def get_daytime(hour):\n",
    "    if hour in range(0,7):\n",
    "        return 'night'\n",
    "    elif hour in range(7,13):\n",
    "        return 'morning'\n",
    "    elif hour in range(13,19):\n",
    "        return 'day'\n",
    "    else:\n",
    "        return 'evening'\n",
    "#bike_df['time_of_day']=bike_df['start hour'].apply(get_daytime)\n",
    "diff=round((bike_df[bike_df['time_of_day']=='day'].shape[0])/(bike_df[bike_df['time_of_day']=='night'].shape[0]))\n",
    "display(diff)\n",
    "#bike_df[bike_df['time_of_day']=='day']['stoptime'].value_counts()"
   ]
  },
  {
   "cell_type": "code",
   "execution_count": 147,
   "metadata": {},
   "outputs": [
    {
     "name": "stdout",
     "output_type": "stream",
     "text": [
      "<class 'pandas.core.frame.DataFrame'>\n",
      "RangeIndex: 300000 entries, 0 to 299999\n",
      "Data columns (total 17 columns):\n",
      " #   Column                   Non-Null Count   Dtype          \n",
      "---  ------                   --------------   -----          \n",
      " 0   starttime                300000 non-null  datetime64[ns] \n",
      " 1   stoptime                 300000 non-null  datetime64[ns] \n",
      " 2   start station name       299831 non-null  object         \n",
      " 3   start station latitude   300000 non-null  float64        \n",
      " 4   start station longitude  300000 non-null  float64        \n",
      " 5   end station name         299831 non-null  object         \n",
      " 6   end station latitude     300000 non-null  float64        \n",
      " 7   end station longitude    300000 non-null  float64        \n",
      " 8   bikeid                   300000 non-null  int64          \n",
      " 9   usertype                 300000 non-null  object         \n",
      " 10  gender                   300000 non-null  int64          \n",
      " 11  age                      300000 non-null  int64          \n",
      " 12  trip duration            300000 non-null  timedelta64[ns]\n",
      " 13  weekend                  300000 non-null  int64          \n",
      " 14  weekend1                 300000 non-null  int64          \n",
      " 15  start hour               300000 non-null  int64          \n",
      " 16  time_of_day              300000 non-null  object         \n",
      "dtypes: datetime64[ns](2), float64(4), int64(6), object(4), timedelta64[ns](1)\n",
      "memory usage: 38.9+ MB\n"
     ]
    }
   ],
   "source": [
    "bike_df.info()"
   ]
  }
 ],
 "metadata": {
  "kernelspec": {
   "display_name": "Python 3",
   "language": "python",
   "name": "python3"
  },
  "language_info": {
   "codemirror_mode": {
    "name": "ipython",
    "version": 3
   },
   "file_extension": ".py",
   "mimetype": "text/x-python",
   "name": "python",
   "nbconvert_exporter": "python",
   "pygments_lexer": "ipython3",
   "version": "3.10.9"
  },
  "orig_nbformat": 4,
  "vscode": {
   "interpreter": {
    "hash": "baa1828dfc167e4576d716b5977be36252772c3a29ea158b7cdeb588b03d41ae"
   }
  }
 },
 "nbformat": 4,
 "nbformat_minor": 2
}
